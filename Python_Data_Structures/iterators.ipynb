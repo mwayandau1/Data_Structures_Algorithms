{
 "cells": [
  {
   "cell_type": "code",
   "execution_count": 1,
   "id": "668b7275-3443-4cd8-95ab-ed6015ea62ca",
   "metadata": {},
   "outputs": [
    {
     "name": "stdout",
     "output_type": "stream",
     "text": [
      "Hell0 world\n"
     ]
    }
   ],
   "source": [
    "print(\"Hell0 world\")"
   ]
  },
  {
   "cell_type": "code",
   "execution_count": 2,
   "id": "ede9eacf-8d55-4712-a551-b7ce763f161a",
   "metadata": {},
   "outputs": [
    {
     "name": "stdout",
     "output_type": "stream",
     "text": [
      "[2, 4, 6, 8, 10, 12, 14, 16, 18, 20]\n"
     ]
    }
   ],
   "source": [
    "a = [1,2,3,4,5,6,7,8,9,10,11,12,13,14,15,16,17,18,19,20,23]\n",
    "even = [a for a in a if a%2 == 0]\n",
    "print(even)"
   ]
  },
  {
   "cell_type": "code",
   "execution_count": 5,
   "id": "1fa0510d-004b-40c8-9094-bed90dcbd286",
   "metadata": {},
   "outputs": [
    {
     "data": {
      "text/plain": [
       "925"
      ]
     },
     "execution_count": 5,
     "metadata": {},
     "output_type": "execute_result"
    }
   ],
   "source": [
    "import numpy as np\n",
    "a = np.random.randint(10, 1000)\n",
    "a"
   ]
  },
  {
   "cell_type": "code",
   "execution_count": null,
   "id": "8970c555-764b-40fc-ac2c-781fd90ed706",
   "metadata": {},
   "outputs": [],
   "source": []
  }
 ],
 "metadata": {
  "kernelspec": {
   "display_name": "Python 3 (ipykernel)",
   "language": "python",
   "name": "python3"
  },
  "language_info": {
   "codemirror_mode": {
    "name": "ipython",
    "version": 3
   },
   "file_extension": ".py",
   "mimetype": "text/x-python",
   "name": "python",
   "nbconvert_exporter": "python",
   "pygments_lexer": "ipython3",
   "version": "3.9.13"
  }
 },
 "nbformat": 4,
 "nbformat_minor": 5
}
